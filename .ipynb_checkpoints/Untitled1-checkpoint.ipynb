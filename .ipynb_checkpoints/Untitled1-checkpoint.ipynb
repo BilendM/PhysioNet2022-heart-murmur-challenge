{
 "cells": [
  {
   "cell_type": "code",
   "execution_count": 1,
   "id": "258c6dff",
   "metadata": {},
   "outputs": [],
   "source": [
    "import pandas as pd\n",
    "import numpy as np\n",
    "\n",
    "csv_file_path = \"dataset/training_data.csv\""
   ]
  },
  {
   "cell_type": "code",
   "execution_count": 2,
   "id": "3b7aeb5a",
   "metadata": {},
   "outputs": [
    {
     "data": {
      "text/html": [
       "<div>\n",
       "<style scoped>\n",
       "    .dataframe tbody tr th:only-of-type {\n",
       "        vertical-align: middle;\n",
       "    }\n",
       "\n",
       "    .dataframe tbody tr th {\n",
       "        vertical-align: top;\n",
       "    }\n",
       "\n",
       "    .dataframe thead th {\n",
       "        text-align: right;\n",
       "    }\n",
       "</style>\n",
       "<table border=\"1\" class=\"dataframe\">\n",
       "  <thead>\n",
       "    <tr style=\"text-align: right;\">\n",
       "      <th></th>\n",
       "      <th>Patient ID</th>\n",
       "      <th>Recording locations:</th>\n",
       "      <th>Age</th>\n",
       "      <th>Sex</th>\n",
       "      <th>Height</th>\n",
       "      <th>Weight</th>\n",
       "      <th>Pregnancy status</th>\n",
       "      <th>Murmur</th>\n",
       "      <th>Murmur locations</th>\n",
       "      <th>Most audible location</th>\n",
       "      <th>...</th>\n",
       "      <th>Systolic murmur pitch</th>\n",
       "      <th>Systolic murmur quality</th>\n",
       "      <th>Diastolic murmur timing</th>\n",
       "      <th>Diastolic murmur shape</th>\n",
       "      <th>Diastolic murmur grading</th>\n",
       "      <th>Diastolic murmur pitch</th>\n",
       "      <th>Diastolic murmur quality</th>\n",
       "      <th>Outcome</th>\n",
       "      <th>Campaign</th>\n",
       "      <th>Additional ID</th>\n",
       "    </tr>\n",
       "  </thead>\n",
       "  <tbody>\n",
       "    <tr>\n",
       "      <th>0</th>\n",
       "      <td>2530</td>\n",
       "      <td>AV+PV+TV+MV</td>\n",
       "      <td>Child</td>\n",
       "      <td>Female</td>\n",
       "      <td>98.0</td>\n",
       "      <td>15.90</td>\n",
       "      <td>False</td>\n",
       "      <td>Absent</td>\n",
       "      <td>NaN</td>\n",
       "      <td>NaN</td>\n",
       "      <td>...</td>\n",
       "      <td>NaN</td>\n",
       "      <td>NaN</td>\n",
       "      <td>NaN</td>\n",
       "      <td>NaN</td>\n",
       "      <td>NaN</td>\n",
       "      <td>NaN</td>\n",
       "      <td>NaN</td>\n",
       "      <td>Abnormal</td>\n",
       "      <td>CC2015</td>\n",
       "      <td>NaN</td>\n",
       "    </tr>\n",
       "    <tr>\n",
       "      <th>1</th>\n",
       "      <td>9979</td>\n",
       "      <td>AV+PV+TV+MV</td>\n",
       "      <td>Child</td>\n",
       "      <td>Female</td>\n",
       "      <td>103.0</td>\n",
       "      <td>13.10</td>\n",
       "      <td>False</td>\n",
       "      <td>Present</td>\n",
       "      <td>AV+MV+PV+TV</td>\n",
       "      <td>TV</td>\n",
       "      <td>...</td>\n",
       "      <td>High</td>\n",
       "      <td>Harsh</td>\n",
       "      <td>NaN</td>\n",
       "      <td>NaN</td>\n",
       "      <td>NaN</td>\n",
       "      <td>NaN</td>\n",
       "      <td>NaN</td>\n",
       "      <td>Abnormal</td>\n",
       "      <td>CC2015</td>\n",
       "      <td>NaN</td>\n",
       "    </tr>\n",
       "    <tr>\n",
       "      <th>2</th>\n",
       "      <td>9983</td>\n",
       "      <td>AV+PV+TV+MV</td>\n",
       "      <td>Child</td>\n",
       "      <td>Male</td>\n",
       "      <td>115.0</td>\n",
       "      <td>19.10</td>\n",
       "      <td>False</td>\n",
       "      <td>Unknown</td>\n",
       "      <td>NaN</td>\n",
       "      <td>NaN</td>\n",
       "      <td>...</td>\n",
       "      <td>NaN</td>\n",
       "      <td>NaN</td>\n",
       "      <td>NaN</td>\n",
       "      <td>NaN</td>\n",
       "      <td>NaN</td>\n",
       "      <td>NaN</td>\n",
       "      <td>NaN</td>\n",
       "      <td>Abnormal</td>\n",
       "      <td>CC2015</td>\n",
       "      <td>NaN</td>\n",
       "    </tr>\n",
       "    <tr>\n",
       "      <th>3</th>\n",
       "      <td>13918</td>\n",
       "      <td>AV+PV+TV+MV</td>\n",
       "      <td>Child</td>\n",
       "      <td>Male</td>\n",
       "      <td>98.0</td>\n",
       "      <td>15.90</td>\n",
       "      <td>False</td>\n",
       "      <td>Present</td>\n",
       "      <td>TV</td>\n",
       "      <td>TV</td>\n",
       "      <td>...</td>\n",
       "      <td>Low</td>\n",
       "      <td>Blowing</td>\n",
       "      <td>NaN</td>\n",
       "      <td>NaN</td>\n",
       "      <td>NaN</td>\n",
       "      <td>NaN</td>\n",
       "      <td>NaN</td>\n",
       "      <td>Abnormal</td>\n",
       "      <td>CC2015</td>\n",
       "      <td>NaN</td>\n",
       "    </tr>\n",
       "    <tr>\n",
       "      <th>4</th>\n",
       "      <td>14241</td>\n",
       "      <td>AV+PV+TV+MV</td>\n",
       "      <td>Child</td>\n",
       "      <td>Male</td>\n",
       "      <td>87.0</td>\n",
       "      <td>11.20</td>\n",
       "      <td>False</td>\n",
       "      <td>Present</td>\n",
       "      <td>AV+MV+PV+TV</td>\n",
       "      <td>PV</td>\n",
       "      <td>...</td>\n",
       "      <td>Low</td>\n",
       "      <td>Harsh</td>\n",
       "      <td>NaN</td>\n",
       "      <td>NaN</td>\n",
       "      <td>NaN</td>\n",
       "      <td>NaN</td>\n",
       "      <td>NaN</td>\n",
       "      <td>Abnormal</td>\n",
       "      <td>CC2015</td>\n",
       "      <td>NaN</td>\n",
       "    </tr>\n",
       "    <tr>\n",
       "      <th>5</th>\n",
       "      <td>14998</td>\n",
       "      <td>AV+PV+TV+MV</td>\n",
       "      <td>Child</td>\n",
       "      <td>Male</td>\n",
       "      <td>NaN</td>\n",
       "      <td>NaN</td>\n",
       "      <td>False</td>\n",
       "      <td>Absent</td>\n",
       "      <td>NaN</td>\n",
       "      <td>NaN</td>\n",
       "      <td>...</td>\n",
       "      <td>NaN</td>\n",
       "      <td>NaN</td>\n",
       "      <td>NaN</td>\n",
       "      <td>NaN</td>\n",
       "      <td>NaN</td>\n",
       "      <td>NaN</td>\n",
       "      <td>NaN</td>\n",
       "      <td>Abnormal</td>\n",
       "      <td>CC2015</td>\n",
       "      <td>NaN</td>\n",
       "    </tr>\n",
       "    <tr>\n",
       "      <th>6</th>\n",
       "      <td>23625</td>\n",
       "      <td>AV+PV+TV+MV</td>\n",
       "      <td>Child</td>\n",
       "      <td>Female</td>\n",
       "      <td>92.0</td>\n",
       "      <td>14.00</td>\n",
       "      <td>False</td>\n",
       "      <td>Absent</td>\n",
       "      <td>NaN</td>\n",
       "      <td>NaN</td>\n",
       "      <td>...</td>\n",
       "      <td>NaN</td>\n",
       "      <td>NaN</td>\n",
       "      <td>NaN</td>\n",
       "      <td>NaN</td>\n",
       "      <td>NaN</td>\n",
       "      <td>NaN</td>\n",
       "      <td>NaN</td>\n",
       "      <td>Abnormal</td>\n",
       "      <td>CC2015</td>\n",
       "      <td>50379.0</td>\n",
       "    </tr>\n",
       "    <tr>\n",
       "      <th>7</th>\n",
       "      <td>24160</td>\n",
       "      <td>AV+PV+TV+MV</td>\n",
       "      <td>Child</td>\n",
       "      <td>Female</td>\n",
       "      <td>98.0</td>\n",
       "      <td>17.66</td>\n",
       "      <td>False</td>\n",
       "      <td>Absent</td>\n",
       "      <td>NaN</td>\n",
       "      <td>NaN</td>\n",
       "      <td>...</td>\n",
       "      <td>NaN</td>\n",
       "      <td>NaN</td>\n",
       "      <td>NaN</td>\n",
       "      <td>NaN</td>\n",
       "      <td>NaN</td>\n",
       "      <td>NaN</td>\n",
       "      <td>NaN</td>\n",
       "      <td>Abnormal</td>\n",
       "      <td>CC2015</td>\n",
       "      <td>NaN</td>\n",
       "    </tr>\n",
       "    <tr>\n",
       "      <th>8</th>\n",
       "      <td>29045</td>\n",
       "      <td>AV+PV+TV+MV</td>\n",
       "      <td>Child</td>\n",
       "      <td>Female</td>\n",
       "      <td>88.0</td>\n",
       "      <td>12.50</td>\n",
       "      <td>False</td>\n",
       "      <td>Present</td>\n",
       "      <td>AV+MV+PV+TV</td>\n",
       "      <td>TV</td>\n",
       "      <td>...</td>\n",
       "      <td>Low</td>\n",
       "      <td>Blowing</td>\n",
       "      <td>NaN</td>\n",
       "      <td>NaN</td>\n",
       "      <td>NaN</td>\n",
       "      <td>NaN</td>\n",
       "      <td>NaN</td>\n",
       "      <td>Abnormal</td>\n",
       "      <td>CC2015</td>\n",
       "      <td>NaN</td>\n",
       "    </tr>\n",
       "    <tr>\n",
       "      <th>9</th>\n",
       "      <td>29378</td>\n",
       "      <td>AV+MV</td>\n",
       "      <td>Child</td>\n",
       "      <td>Female</td>\n",
       "      <td>82.0</td>\n",
       "      <td>10.70</td>\n",
       "      <td>False</td>\n",
       "      <td>Unknown</td>\n",
       "      <td>NaN</td>\n",
       "      <td>NaN</td>\n",
       "      <td>...</td>\n",
       "      <td>NaN</td>\n",
       "      <td>NaN</td>\n",
       "      <td>NaN</td>\n",
       "      <td>NaN</td>\n",
       "      <td>NaN</td>\n",
       "      <td>NaN</td>\n",
       "      <td>NaN</td>\n",
       "      <td>Abnormal</td>\n",
       "      <td>CC2015</td>\n",
       "      <td>NaN</td>\n",
       "    </tr>\n",
       "  </tbody>\n",
       "</table>\n",
       "<p>10 rows × 23 columns</p>\n",
       "</div>"
      ],
      "text/plain": [
       "   Patient ID Recording locations:    Age     Sex  Height  Weight  \\\n",
       "0        2530          AV+PV+TV+MV  Child  Female    98.0   15.90   \n",
       "1        9979          AV+PV+TV+MV  Child  Female   103.0   13.10   \n",
       "2        9983          AV+PV+TV+MV  Child    Male   115.0   19.10   \n",
       "3       13918          AV+PV+TV+MV  Child    Male    98.0   15.90   \n",
       "4       14241          AV+PV+TV+MV  Child    Male    87.0   11.20   \n",
       "5       14998          AV+PV+TV+MV  Child    Male     NaN     NaN   \n",
       "6       23625          AV+PV+TV+MV  Child  Female    92.0   14.00   \n",
       "7       24160          AV+PV+TV+MV  Child  Female    98.0   17.66   \n",
       "8       29045          AV+PV+TV+MV  Child  Female    88.0   12.50   \n",
       "9       29378                AV+MV  Child  Female    82.0   10.70   \n",
       "\n",
       "   Pregnancy status   Murmur Murmur locations Most audible location  ...  \\\n",
       "0             False   Absent              NaN                   NaN  ...   \n",
       "1             False  Present      AV+MV+PV+TV                    TV  ...   \n",
       "2             False  Unknown              NaN                   NaN  ...   \n",
       "3             False  Present               TV                    TV  ...   \n",
       "4             False  Present      AV+MV+PV+TV                    PV  ...   \n",
       "5             False   Absent              NaN                   NaN  ...   \n",
       "6             False   Absent              NaN                   NaN  ...   \n",
       "7             False   Absent              NaN                   NaN  ...   \n",
       "8             False  Present      AV+MV+PV+TV                    TV  ...   \n",
       "9             False  Unknown              NaN                   NaN  ...   \n",
       "\n",
       "  Systolic murmur pitch Systolic murmur quality Diastolic murmur timing  \\\n",
       "0                   NaN                     NaN                     NaN   \n",
       "1                  High                   Harsh                     NaN   \n",
       "2                   NaN                     NaN                     NaN   \n",
       "3                   Low                 Blowing                     NaN   \n",
       "4                   Low                   Harsh                     NaN   \n",
       "5                   NaN                     NaN                     NaN   \n",
       "6                   NaN                     NaN                     NaN   \n",
       "7                   NaN                     NaN                     NaN   \n",
       "8                   Low                 Blowing                     NaN   \n",
       "9                   NaN                     NaN                     NaN   \n",
       "\n",
       "  Diastolic murmur shape Diastolic murmur grading Diastolic murmur pitch  \\\n",
       "0                    NaN                      NaN                    NaN   \n",
       "1                    NaN                      NaN                    NaN   \n",
       "2                    NaN                      NaN                    NaN   \n",
       "3                    NaN                      NaN                    NaN   \n",
       "4                    NaN                      NaN                    NaN   \n",
       "5                    NaN                      NaN                    NaN   \n",
       "6                    NaN                      NaN                    NaN   \n",
       "7                    NaN                      NaN                    NaN   \n",
       "8                    NaN                      NaN                    NaN   \n",
       "9                    NaN                      NaN                    NaN   \n",
       "\n",
       "  Diastolic murmur quality   Outcome Campaign Additional ID  \n",
       "0                      NaN  Abnormal   CC2015           NaN  \n",
       "1                      NaN  Abnormal   CC2015           NaN  \n",
       "2                      NaN  Abnormal   CC2015           NaN  \n",
       "3                      NaN  Abnormal   CC2015           NaN  \n",
       "4                      NaN  Abnormal   CC2015           NaN  \n",
       "5                      NaN  Abnormal   CC2015           NaN  \n",
       "6                      NaN  Abnormal   CC2015       50379.0  \n",
       "7                      NaN  Abnormal   CC2015           NaN  \n",
       "8                      NaN  Abnormal   CC2015           NaN  \n",
       "9                      NaN  Abnormal   CC2015           NaN  \n",
       "\n",
       "[10 rows x 23 columns]"
      ]
     },
     "execution_count": 2,
     "metadata": {},
     "output_type": "execute_result"
    }
   ],
   "source": [
    "training_data = pd.read_csv(csv_file_path)\n",
    "\n",
    "training_data.head(10)"
   ]
  },
  {
   "cell_type": "code",
   "execution_count": 3,
   "id": "748eec83",
   "metadata": {},
   "outputs": [
    {
     "name": "stdout",
     "output_type": "stream",
     "text": [
      "<class 'pandas.core.frame.DataFrame'>\n",
      "RangeIndex: 942 entries, 0 to 941\n",
      "Data columns (total 23 columns):\n",
      " #   Column                    Non-Null Count  Dtype  \n",
      "---  ------                    --------------  -----  \n",
      " 0   Patient ID                942 non-null    int64  \n",
      " 1   Recording locations:      942 non-null    object \n",
      " 2   Age                       868 non-null    object \n",
      " 3   Sex                       942 non-null    object \n",
      " 4   Height                    826 non-null    float64\n",
      " 5   Weight                    837 non-null    float64\n",
      " 6   Pregnancy status          942 non-null    bool   \n",
      " 7   Murmur                    942 non-null    object \n",
      " 8   Murmur locations          179 non-null    object \n",
      " 9   Most audible location     179 non-null    object \n",
      " 10  Systolic murmur timing    178 non-null    object \n",
      " 11  Systolic murmur shape     178 non-null    object \n",
      " 12  Systolic murmur grading   178 non-null    object \n",
      " 13  Systolic murmur pitch     178 non-null    object \n",
      " 14  Systolic murmur quality   178 non-null    object \n",
      " 15  Diastolic murmur timing   5 non-null      object \n",
      " 16  Diastolic murmur shape    5 non-null      object \n",
      " 17  Diastolic murmur grading  5 non-null      object \n",
      " 18  Diastolic murmur pitch    5 non-null      object \n",
      " 19  Diastolic murmur quality  5 non-null      object \n",
      " 20  Outcome                   942 non-null    object \n",
      " 21  Campaign                  942 non-null    object \n",
      " 22  Additional ID             140 non-null    float64\n",
      "dtypes: bool(1), float64(3), int64(1), object(18)\n",
      "memory usage: 163.0+ KB\n"
     ]
    }
   ],
   "source": [
    "training_data.info()"
   ]
  },
  {
   "cell_type": "code",
   "execution_count": 4,
   "id": "c18880a3",
   "metadata": {},
   "outputs": [],
   "source": [
    "drop_features = [\"Patient ID\", \"Recording locations:\", \"Murmur locations\", \"Additional ID\"]\n",
    "droped_train = training_data.drop(drop_features, axis=1)"
   ]
  },
  {
   "cell_type": "code",
   "execution_count": 5,
   "id": "4a8a6333",
   "metadata": {},
   "outputs": [
    {
     "name": "stdout",
     "output_type": "stream",
     "text": [
      "<class 'pandas.core.frame.DataFrame'>\n",
      "RangeIndex: 942 entries, 0 to 941\n",
      "Data columns (total 19 columns):\n",
      " #   Column                    Non-Null Count  Dtype  \n",
      "---  ------                    --------------  -----  \n",
      " 0   Age                       868 non-null    object \n",
      " 1   Sex                       942 non-null    object \n",
      " 2   Height                    826 non-null    float64\n",
      " 3   Weight                    837 non-null    float64\n",
      " 4   Pregnancy status          942 non-null    bool   \n",
      " 5   Murmur                    942 non-null    object \n",
      " 6   Most audible location     179 non-null    object \n",
      " 7   Systolic murmur timing    178 non-null    object \n",
      " 8   Systolic murmur shape     178 non-null    object \n",
      " 9   Systolic murmur grading   178 non-null    object \n",
      " 10  Systolic murmur pitch     178 non-null    object \n",
      " 11  Systolic murmur quality   178 non-null    object \n",
      " 12  Diastolic murmur timing   5 non-null      object \n",
      " 13  Diastolic murmur shape    5 non-null      object \n",
      " 14  Diastolic murmur grading  5 non-null      object \n",
      " 15  Diastolic murmur pitch    5 non-null      object \n",
      " 16  Diastolic murmur quality  5 non-null      object \n",
      " 17  Outcome                   942 non-null    object \n",
      " 18  Campaign                  942 non-null    object \n",
      "dtypes: bool(1), float64(2), object(16)\n",
      "memory usage: 133.5+ KB\n"
     ]
    }
   ],
   "source": [
    "droped_train.info()"
   ]
  },
  {
   "cell_type": "markdown",
   "id": "04cf3d48",
   "metadata": {},
   "source": [
    "\"Murmur locations\", \"Most audible location\", \"Systolic murmur timing\", \"Systolic murmur shape\", \"Systolic murmur grading\", \"Systolic murmur pitch\", \"Systolic murmur quality\", \"Diastolic murmur timing\", \"Diastolic murmur shape\", \"Diastolic murmur grading\", \"Diastolic murmur pitch\", \"Diastolic murmur quality\", \"Additional ID\"\n",
    "\n",
    "More that 50% of the above features are Null."
   ]
  },
  {
   "cell_type": "code",
   "execution_count": 6,
   "id": "d6688963",
   "metadata": {},
   "outputs": [],
   "source": [
    "drop_features = [\"Most audible location\", \"Systolic murmur timing\", \"Systolic murmur shape\", \"Systolic murmur grading\", \"Systolic murmur pitch\", \"Systolic murmur quality\", \"Diastolic murmur timing\", \"Diastolic murmur shape\", \"Diastolic murmur grading\", \"Diastolic murmur pitch\", \"Diastolic murmur quality\", \"Campaign\"]\n",
    "droped_train = droped_train.drop(drop_features, axis=1)"
   ]
  },
  {
   "cell_type": "code",
   "execution_count": 7,
   "id": "d56d3fe0",
   "metadata": {},
   "outputs": [
    {
     "name": "stdout",
     "output_type": "stream",
     "text": [
      "<class 'pandas.core.frame.DataFrame'>\n",
      "RangeIndex: 942 entries, 0 to 941\n",
      "Data columns (total 7 columns):\n",
      " #   Column            Non-Null Count  Dtype  \n",
      "---  ------            --------------  -----  \n",
      " 0   Age               868 non-null    object \n",
      " 1   Sex               942 non-null    object \n",
      " 2   Height            826 non-null    float64\n",
      " 3   Weight            837 non-null    float64\n",
      " 4   Pregnancy status  942 non-null    bool   \n",
      " 5   Murmur            942 non-null    object \n",
      " 6   Outcome           942 non-null    object \n",
      "dtypes: bool(1), float64(2), object(4)\n",
      "memory usage: 45.2+ KB\n"
     ]
    }
   ],
   "source": [
    "droped_train.info()"
   ]
  },
  {
   "cell_type": "code",
   "execution_count": 8,
   "id": "23f33080",
   "metadata": {},
   "outputs": [],
   "source": [
    "def age_float_conversion(age):\n",
    "    if age == \"Neonate\":\n",
    "        return 0.5\n",
    "    elif age == \"Infant\":\n",
    "        return 6\n",
    "    elif age == \"Child\":\n",
    "        return 6 * 12\n",
    "    elif age == \"Adolescent\":\n",
    "        return 15 * 12\n",
    "    elif age == \"Young Adult\":\n",
    "        return 20 * 12\n",
    "    else:\n",
    "        # Assuming 'age' can be directly converted to float if it's not one of the categories above\n",
    "        try:\n",
    "            return float(age)\n",
    "        except ValueError:\n",
    "            return float('nan')\n"
   ]
  },
  {
   "cell_type": "code",
   "execution_count": 9,
   "id": "eaa0b757",
   "metadata": {},
   "outputs": [
    {
     "name": "stdout",
     "output_type": "stream",
     "text": [
      "<class 'pandas.core.frame.DataFrame'>\n",
      "RangeIndex: 942 entries, 0 to 941\n",
      "Data columns (total 7 columns):\n",
      " #   Column            Non-Null Count  Dtype  \n",
      "---  ------            --------------  -----  \n",
      " 0   Age               868 non-null    float64\n",
      " 1   Sex               942 non-null    object \n",
      " 2   Height            826 non-null    float64\n",
      " 3   Weight            837 non-null    float64\n",
      " 4   Pregnancy status  942 non-null    bool   \n",
      " 5   Murmur            942 non-null    object \n",
      " 6   Outcome           942 non-null    object \n",
      "dtypes: bool(1), float64(3), object(3)\n",
      "memory usage: 45.2+ KB\n"
     ]
    }
   ],
   "source": [
    "droped_train['Age'] = droped_train['Age'].apply(age_float_conversion)\n",
    "droped_train.info()"
   ]
  },
  {
   "cell_type": "code",
   "execution_count": 10,
   "id": "0433a27b",
   "metadata": {},
   "outputs": [],
   "source": [
    "droped_train[\"Sex\"] = droped_train[\"Sex\"].map({\"Female\": 0, \"Male\": 1})\n",
    "droped_train[\"Pregnancy status\"] = droped_train[\"Pregnancy status\"].map({False: 0, True: 1})\n",
    "droped_train[\"Murmur\"] = droped_train[\"Murmur\"].map({\"Present\": 0, \"Unknown\": 1, \"Absent\": 2})\n",
    "droped_train[\"Outcome\"] = droped_train[\"Outcome\"].map({\"Abnormal\": 0, \"Normal\": 1})"
   ]
  },
  {
   "cell_type": "code",
   "execution_count": 11,
   "id": "2a1a70d0",
   "metadata": {},
   "outputs": [
    {
     "name": "stdout",
     "output_type": "stream",
     "text": [
      "<class 'pandas.core.frame.DataFrame'>\n",
      "RangeIndex: 942 entries, 0 to 941\n",
      "Data columns (total 7 columns):\n",
      " #   Column            Non-Null Count  Dtype  \n",
      "---  ------            --------------  -----  \n",
      " 0   Age               868 non-null    float64\n",
      " 1   Sex               942 non-null    int64  \n",
      " 2   Height            826 non-null    float64\n",
      " 3   Weight            837 non-null    float64\n",
      " 4   Pregnancy status  942 non-null    int64  \n",
      " 5   Murmur            942 non-null    int64  \n",
      " 6   Outcome           942 non-null    int64  \n",
      "dtypes: float64(3), int64(4)\n",
      "memory usage: 51.6 KB\n"
     ]
    }
   ],
   "source": [
    "droped_train.info()"
   ]
  },
  {
   "cell_type": "code",
   "execution_count": 12,
   "id": "8b90c9d9",
   "metadata": {},
   "outputs": [],
   "source": [
    "import sklearn\n",
    "import matplotlib.pyplot as plt\n",
    "\n",
    "results = [droped_train[\"Murmur\"], droped_train[\"Outcome\"]]\n",
    "#droped_train = droped_train.drop([\"Murmur\", \"Outcome\"], axis=1)\n"
   ]
  },
  {
   "cell_type": "code",
   "execution_count": 13,
   "id": "54e73d8c",
   "metadata": {},
   "outputs": [
    {
     "name": "stdout",
     "output_type": "stream",
     "text": [
      "<class 'pandas.core.frame.DataFrame'>\n",
      "RangeIndex: 942 entries, 0 to 941\n",
      "Data columns (total 7 columns):\n",
      " #   Column            Non-Null Count  Dtype  \n",
      "---  ------            --------------  -----  \n",
      " 0   Age               868 non-null    float64\n",
      " 1   Sex               942 non-null    int64  \n",
      " 2   Height            826 non-null    float64\n",
      " 3   Weight            837 non-null    float64\n",
      " 4   Pregnancy status  942 non-null    int64  \n",
      " 5   Murmur            942 non-null    int64  \n",
      " 6   Outcome           942 non-null    int64  \n",
      "dtypes: float64(3), int64(4)\n",
      "memory usage: 51.6 KB\n"
     ]
    }
   ],
   "source": [
    "droped_train.info()"
   ]
  },
  {
   "cell_type": "code",
   "execution_count": 14,
   "id": "b24a4d74",
   "metadata": {},
   "outputs": [],
   "source": [
    "corr_matrix = droped_train.corr()\n",
    "\n",
    "murmur_corr = corr_matrix['Murmur']\n",
    "outcome_corr = corr_matrix['Outcome']"
   ]
  },
  {
   "cell_type": "code",
   "execution_count": 15,
   "id": "9cb5d4bf",
   "metadata": {},
   "outputs": [
    {
     "data": {
      "text/plain": [
       "<AxesSubplot: >"
      ]
     },
     "execution_count": 15,
     "metadata": {},
     "output_type": "execute_result"
    },
    {
     "data": {
      "image/png": "[encoded data removed]",
      "text/plain": [
       "<Figure size 640x480 with 2 Axes>"
      ]
     },
     "metadata": {},
     "output_type": "display_data"
    }
   ],
   "source": [
    "import seaborn as sns\n",
    "\n",
    "sns.heatmap(corr_matrix, annot=True)"
   ]
  },
  {
   "cell_type": "code",
   "execution_count": 17,
   "id": "1dee4d3f",
   "metadata": {},
   "outputs": [
    {
     "name": "stdout",
     "output_type": "stream",
     "text": [
      "      Outcome          variable  value\n",
      "0           0               Age   72.0\n",
      "1           0               Age   72.0\n",
      "2           0               Age   72.0\n",
      "3           0               Age   72.0\n",
      "4           0               Age   72.0\n",
      "...       ...               ...    ...\n",
      "2821        1  Pregnancy status    0.0\n",
      "2822        1  Pregnancy status    0.0\n",
      "2823        0  Pregnancy status    0.0\n",
      "2824        1  Pregnancy status    0.0\n",
      "2825        1  Pregnancy status    1.0\n",
      "\n",
      "[2826 rows x 3 columns]\n"
     ]
    }
   ],
   "source": [
    "var = ['Age', 'Sex', 'Pregnancy status']\n",
    "outcome_cat = pd.melt(droped_train, id_vars=['Outcome'], value_vars=var)\n",
    "print(outcome_cat)"
   ]
  },
  {
   "cell_type": "code",
   "execution_count": 18,
   "id": "adaaaccb",
   "metadata": {},
   "outputs": [
    {
     "data": {
      "text/plain": [
       "<seaborn.axisgrid.FacetGrid at 0x115375940>"
      ]
     },
     "execution_count": 18,
     "metadata": {},
     "output_type": "execute_result"
    },
    {
     "data": {
      "image/png": "[encoded data removed]",
      "text/plain": [
       "<Figure size 1089.62x500 with 2 Axes>"
      ]
     },
     "metadata": {},
     "output_type": "display_data"
    }
   ],
   "source": [
    "graph = sns.catplot(data=outcome_cat, kind='count', x='variable', hue='value', col='Outcome')\n",
    "graph.set_ylabels('total', fontsize=10)"
   ]
  },
  {
   "cell_type": "code",
   "execution_count": 19,
   "id": "71bf2f4c",
   "metadata": {},
   "outputs": [
    {
     "name": "stdout",
     "output_type": "stream",
     "text": [
      "      Murmur          variable  value\n",
      "0          2               Age   72.0\n",
      "1          0               Age   72.0\n",
      "2          1               Age   72.0\n",
      "3          0               Age   72.0\n",
      "4          0               Age   72.0\n",
      "...      ...               ...    ...\n",
      "2821       2  Pregnancy status    0.0\n",
      "2822       2  Pregnancy status    0.0\n",
      "2823       0  Pregnancy status    0.0\n",
      "2824       2  Pregnancy status    0.0\n",
      "2825       2  Pregnancy status    1.0\n",
      "\n",
      "[2826 rows x 3 columns]\n"
     ]
    }
   ],
   "source": [
    "var = ['Age', 'Sex', 'Pregnancy status']\n",
    "murmur_cat = pd.melt(droped_train, id_vars=['Murmur'], value_vars=var)\n",
    "print(murmur_cat)"
   ]
  },
  {
   "cell_type": "code",
   "execution_count": 20,
   "id": "1758aa1d",
   "metadata": {},
   "outputs": [
    {
     "data": {
      "text/plain": [
       "<seaborn.axisgrid.FacetGrid at 0x115377c40>"
      ]
     },
     "execution_count": 20,
     "metadata": {},
     "output_type": "execute_result"
    },
    {
     "data": {
      "image/png": "[encoded data removed]",
      "text/plain": [
       "<Figure size 1589.62x500 with 3 Axes>"
      ]
     },
     "metadata": {},
     "output_type": "display_data"
    }
   ],
   "source": [
    "graph = sns.catplot(data=murmur_cat, kind='count', x='variable', hue='value', col='Murmur')\n",
    "graph.set_ylabels('total', fontsize=10)"
   ]
  },
  {
   "cell_type": "code",
   "execution_count": null,
   "id": "576570a3",
   "metadata": {},
   "outputs": [],
   "source": []
  }
 ],
 "metadata": {
  "kernelspec": {
   "display_name": "Python 3 (ipykernel)",
   "language": "python",
   "name": "python3"
  },
  "language_info": {
   "codemirror_mode": {
    "name": "ipython",
    "version": 3
   },
   "file_extension": ".py",
   "mimetype": "text/x-python",
   "name": "python",
   "nbconvert_exporter": "python",
   "pygments_lexer": "ipython3",
   "version": "3.9.13"
  }
 },
 "nbformat": 4,
 "nbformat_minor": 5
}
